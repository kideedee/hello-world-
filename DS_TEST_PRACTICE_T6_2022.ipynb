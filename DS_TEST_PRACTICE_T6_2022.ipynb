{
  "cells": [
    {
      "cell_type": "markdown",
      "source": [
        "## ĐÁNH GIÁ NĂNG LỰC KỸ SƯ KHOA HỌC DỮ LIỆU THÁNG 06 - 2022\n",
        "#### BÀI THỰC HÀNH (ĐỀ CHÍNH THỨC)\n",
        "\n",
        "---\n",
        "\n",
        "Ngày test: 27/06/2022\n",
        "Thời gian làm bài: 40 phút, từ 17:00 đến 17:40\n",
        "(+ 5 phút thiết lập môi trường và nộp bài)\n",
        "\n",
        "\n",
        "**Quy định:**\n",
        "- Không trao đổi trong suốt quá trình làm bài\n",
        "- Record màn hình làm bài và share lại cho quanvh8 sau khi kết thúc thời gian test\n",
        "- **ĐƯỢC** sử dụng tài liệu và tra cứu internet\n",
        "- Sau khi hoàn thành, tải notebook, gửi về email: quanvh8@viettel.com.vn\n",
        "\n",
        "**Hướng dẫn làm bài:**\n",
        "\n",
        "* Chạy toàn bộ lệnh trong phần 0. CHUẨN BỊ MÔI TRƯỜNG\n",
        "* Làm theo hướng dẫn tại các câu và **CHỈ SỬA** các đoạn code nằm giữa các thẻ:\n",
        "\n",
        "      # YOUR CODE START\n",
        "      # / END YOUR CODE\n",
        "\n",
        "*Lưu ý: hầu hết câu hỏi không có tính tuần tự (không cần hoàn thành câu trước để làm câu sau)*\n",
        "\n",
        "*Đề thi có một số testcase hỗ trợ DS kiểm tra kết quả, nhưng đây không phải điểm số. Điểm số được giám khảo chấm và gửi lại sau.*\n",
        "\n",
        "\n",
        "\n",
        "---"
      ],
      "metadata": {
        "id": "wXZRPwolwz2R",
        "pycharm": {
          "name": "#%% md\n"
        }
      }
    },
    {
      "cell_type": "markdown",
      "metadata": {
        "id": "j-4dViMswxFM",
        "pycharm": {
          "name": "#%% md\n"
        }
      },
      "source": [
        "### 0. CÀI ĐẶT MÔI TRƯỜNG\n",
        "Guide: Chạy toàn bộ các lệnh trong phần này"
      ]
    },
    {
      "cell_type": "code",
      "source": [
        "!pip install pyspark"
      ],
      "metadata": {
        "colab": {
          "base_uri": "https://localhost:8080/"
        },
        "id": "voGA97cu5oBJ",
        "outputId": "04481996-9402-417a-8e44-198d35ae6125",
        "pycharm": {
          "name": "#%%\n"
        }
      },
      "execution_count": 1,
      "outputs": [
        {
          "output_type": "stream",
          "name": "stdout",
          "text": [
            "Looking in indexes: https://pypi.org/simple, https://us-python.pkg.dev/colab-wheels/public/simple/\n",
            "Collecting pyspark\n",
            "  Downloading pyspark-3.3.0.tar.gz (281.3 MB)\n",
            "\u001b[K     |████████████████████████████████| 281.3 MB 47 kB/s \n",
            "\u001b[?25hCollecting py4j==0.10.9.5\n",
            "  Downloading py4j-0.10.9.5-py2.py3-none-any.whl (199 kB)\n",
            "\u001b[K     |████████████████████████████████| 199 kB 61.5 MB/s \n",
            "\u001b[?25hBuilding wheels for collected packages: pyspark\n",
            "  Building wheel for pyspark (setup.py) ... \u001b[?25l\u001b[?25hdone\n",
            "  Created wheel for pyspark: filename=pyspark-3.3.0-py2.py3-none-any.whl size=281764026 sha256=1a318fcaeafa44420b87caad4f0303e563041e645b6778a531ad4e2e51e1834d\n",
            "  Stored in directory: /root/.cache/pip/wheels/7a/8e/1b/f73a52650d2e5f337708d9f6a1750d451a7349a867f928b885\n",
            "Successfully built pyspark\n",
            "Installing collected packages: py4j, pyspark\n",
            "Successfully installed py4j-0.10.9.5 pyspark-3.3.0\n"
          ]
        }
      ]
    },
    {
      "cell_type": "code",
      "execution_count": 2,
      "metadata": {
        "id": "jnRQOyNiwxFQ",
        "pycharm": {
          "name": "#%%\n"
        }
      },
      "outputs": [],
      "source": [
        "import pandas as pd\n",
        "import numpy as np \n",
        "import tensorflow as tf\n",
        "import gzip\n",
        "import shutil\n",
        "import requests \n",
        "import seaborn as sns\n",
        "import matplotlib.pyplot as plt\n",
        "from sklearn.metrics import roc_auc_score\n",
        "\n",
        "import pyspark\n",
        "from pyspark.sql import functions as F"
      ]
    },
    {
      "cell_type": "code",
      "execution_count": 3,
      "metadata": {
        "id": "Q27LBDnlwxFS",
        "pycharm": {
          "name": "#%%\n"
        }
      },
      "outputs": [],
      "source": [
        "def data_downloader(file_name):\n",
        "    file_url = 'https://web.archive.org/web/20070214120527/http://lisp.vse.cz/pkdd99/DATA/'+file_name\n",
        "    file_path = \"/content/\"+file_name\n",
        "    \n",
        "    r = requests.get(file_url, stream = True, verify=False) \n",
        "    \n",
        "    with open( file_path, \"wb\") as file: \n",
        "        for block in r.iter_content(chunk_size = 1024*10): \n",
        "            if block: \n",
        "                file.write(block)\n",
        "    print(\"Loaded \"+file_name+\" to local path: \"+file_path)\n",
        "    "
      ]
    },
    {
      "cell_type": "code",
      "execution_count": 4,
      "metadata": {
        "id": "cBcsFagBwxFT",
        "pycharm": {
          "name": "#%%\n"
        }
      },
      "outputs": [],
      "source": [
        "spark = pyspark.sql.SparkSession \\\n",
        "    .builder \\\n",
        "    .appName(\"DS_test\") \\\n",
        "    .getOrCreate()"
      ]
    },
    {
      "cell_type": "markdown",
      "metadata": {
        "id": "k_n6D2uOwxFU",
        "pycharm": {
          "name": "#%% md\n"
        }
      },
      "source": [
        "#### DATA: PKDD'99 Financial dataset"
      ]
    },
    {
      "cell_type": "markdown",
      "metadata": {
        "id": "WzjBmmazwxFV",
        "pycharm": {
          "name": "#%% md\n"
        }
      },
      "source": [
        "Thông tin bộ dữ liệu: https://relational.fit.cvut.cz/dataset/Financial"
      ]
    },
    {
      "cell_type": "markdown",
      "metadata": {
        "id": "ftYhrrfqwxFW",
        "pycharm": {
          "name": "#%% md\n"
        }
      },
      "source": [
        "PKDD'99 Financial dataset contains 606 successful and 76 not successful loans along with their information and transactions."
      ]
    },
    {
      "cell_type": "markdown",
      "metadata": {
        "id": "YgbxWLJKwxFW",
        "pycharm": {
          "name": "#%% md\n"
        }
      },
      "source": [
        "![Alt text](https://relational.fit.cvut.cz/assets/img/datasets-generated/financial.svg \"Schema bộ dữ liệu\")"
      ]
    },
    {
      "cell_type": "code",
      "execution_count": 5,
      "metadata": {
        "scrolled": true,
        "colab": {
          "base_uri": "https://localhost:8080/"
        },
        "id": "tPMkN_muwxFX",
        "outputId": "ac402d00-cbeb-4909-bac7-6a14dc879de4",
        "pycharm": {
          "name": "#%%\n"
        }
      },
      "outputs": [
        {
          "output_type": "stream",
          "name": "stderr",
          "text": [
            "/usr/local/lib/python3.7/dist-packages/urllib3/connectionpool.py:847: InsecureRequestWarning: Unverified HTTPS request is being made. Adding certificate verification is strongly advised. See: https://urllib3.readthedocs.io/en/latest/advanced-usage.html#ssl-warnings\n",
            "  InsecureRequestWarning)\n"
          ]
        },
        {
          "output_type": "stream",
          "name": "stdout",
          "text": [
            "Loaded data_berka.zip to local path: /content/data_berka.zip\n"
          ]
        }
      ],
      "source": [
        "# Tải dữ liệu về\n",
        "data_downloader(\"data_berka.zip\")"
      ]
    },
    {
      "cell_type": "code",
      "source": [
        "!unzip /content/data_berka.zip"
      ],
      "metadata": {
        "colab": {
          "base_uri": "https://localhost:8080/"
        },
        "id": "pDLjvWXpbhjH",
        "outputId": "380f147b-ead2-4e59-88b8-4367bfaf379c",
        "pycharm": {
          "name": "#%%\n"
        }
      },
      "execution_count": 6,
      "outputs": [
        {
          "output_type": "stream",
          "name": "stdout",
          "text": [
            "Archive:  /content/data_berka.zip\n",
            "  inflating: trans.asc               \n",
            "  inflating: order.asc               \n",
            "  inflating: loan.asc                \n",
            "  inflating: district.asc            \n",
            "  inflating: disp.asc                \n",
            "  inflating: client.asc              \n",
            "  inflating: card.asc                \n",
            "  inflating: account.asc             \n"
          ]
        }
      ]
    },
    {
      "cell_type": "markdown",
      "source": [
        "Dữ liệu đã được tải về colab, mở tab \"Files\" bên trái màn hình để kiếm tra"
      ],
      "metadata": {
        "id": "DrAFedA1bujO",
        "pycharm": {
          "name": "#%% md\n"
        }
      }
    },
    {
      "cell_type": "code",
      "source": [
        "# Setting to speed up \n",
        "spark.sql(\"set spark.sql.shuffle.partitions=1\")"
      ],
      "metadata": {
        "colab": {
          "base_uri": "https://localhost:8080/"
        },
        "id": "XFjGlvw53ZLV",
        "outputId": "78792c50-34f2-499f-f156-adc2350e2542",
        "pycharm": {
          "name": "#%%\n"
        }
      },
      "execution_count": 7,
      "outputs": [
        {
          "output_type": "execute_result",
          "data": {
            "text/plain": [
              "DataFrame[key: string, value: string]"
            ]
          },
          "metadata": {},
          "execution_count": 7
        }
      ]
    },
    {
      "cell_type": "markdown",
      "source": [
        "## PHẦN I. PYTHON PROGRAMMING\n",
        "[4 điểm]\n",
        "Guide: Sử dụng python thực hiện các yêu cầu sau"
      ],
      "metadata": {
        "id": "unnuN-iZhHiw"
      }
    },
    {
      "cell_type": "markdown",
      "source": [
        "**Câu 1**. [2đ] Cho $A$ là một chuỗi thời gian (kiểu dữ liệu numpy array hoặc list), xây dựng thuật toán tìm ra chuỗi con $a \\in A$ sao cho $S = a[-1] - a[0]$ (hiệu số phần tử cuối cùng và phần tử đầu tiên) là tối đa và độ phức tạp của thuật toán là $O(n)$\n"
      ],
      "metadata": {
        "id": "fFhSJetOhb54"
      }
    },
    {
      "cell_type": "code",
      "source": [
        "%%time\n",
        "def get_subseq(A):\n",
        "  # YOUR CODE START \n",
        "  \n",
        "  a = \n",
        "  # / END YOUR CODE\n",
        "  return a"
      ],
      "metadata": {
        "id": "mLA29MhUiiGf"
      },
      "execution_count": null,
      "outputs": []
    },
    {
      "cell_type": "code",
      "source": [
        "# Testcase\n",
        "A= [1, 2, 5, 0.5,4, 6, 8, 12, 10, 15, 9, 7, 6, 5, 4, 7, 8 ,9 ]\n",
        "a = get_subseq(A)\n",
        "print(a)\n",
        "\n",
        "# >> expected result: [0.5, 4, 6, 8, 12, 10, 15]"
      ],
      "metadata": {
        "id": "Iz5b27c5lx3A"
      },
      "execution_count": null,
      "outputs": []
    },
    {
      "cell_type": "markdown",
      "source": [
        "**Câu 2**. [2đ] Vẫn thực hiện yêu cầu của Câu 1 với điều kiện độ dài tối đa của chuỗi $a$ là $k$"
      ],
      "metadata": {
        "id": "TzJuBlLJijkw"
      }
    },
    {
      "cell_type": "code",
      "source": [
        "%%time\n",
        "def get_subseq_limit(A, k):\n",
        "  # YOUR CODE START \n",
        "\n",
        "  a = \n",
        "  # / END YOUR CODE\n",
        "  return a"
      ],
      "metadata": {
        "id": "at3FSs2ljBRX"
      },
      "execution_count": null,
      "outputs": []
    },
    {
      "cell_type": "code",
      "source": [
        "# Testcase\n",
        "A= [1, 2, 5, 0.5,4, 6, 8, 12, 10, 15, 9, 7, 6, 5, 4, 7, 8 ,9 ]\n",
        "a = get_subseq_limit(A, k=3)\n",
        "print(a)\n",
        "\n",
        "# >> expected result: [6, 8, 12]"
      ],
      "metadata": {
        "id": "6z0o5TkElfx5"
      },
      "execution_count": null,
      "outputs": []
    },
    {
      "cell_type": "markdown",
      "metadata": {
        "id": "muScjCy_wxFY",
        "pycharm": {
          "name": "#%% md\n"
        }
      },
      "source": [
        "## PHẦN II. DATA MANIPULATION AND ANALYSIS\n",
        "[ 10 điểm ] <br>\n",
        "Guide: Sử dụng pyspark hoặc spark-SQL thực hiện tất cả các câu thuộc phần này."
      ]
    },
    {
      "cell_type": "markdown",
      "metadata": {
        "id": "IB5z9y7awxFZ",
        "pycharm": {
          "name": "#%% md\n"
        }
      },
      "source": [
        "**Câu 3**. [2đ] Đọc các file vào pyspark dataframe, biết rằng các cột trong các file dữ liệu đều phân cách nhau bởi dấu chấm phấy (;). Lưu tương ứng các dataframe với các file dữ liệu:\n",
        "- df_loan : \"loan.asc\"\n",
        "- df_trans  :\"trans.asc\"\n",
        "- df_order  :\"order.asc\"\n",
        "- df_account  :\"account.asc\"\n",
        "\n",
        "(Xem mô tả quan trọng của dữ liệu phía trên)"
      ]
    },
    {
      "cell_type": "code",
      "execution_count": 8,
      "metadata": {
        "id": "qEkvX1pHwxFZ",
        "pycharm": {
          "name": "#%%\n"
        }
      },
      "outputs": [],
      "source": [
        "df_loan = (\n",
        "    # YOUR CODE START \n",
        "    spark.read.options(header='True', inferSchema='True', delimiter=';').csv('/content/loan.asc')\n",
        "    # / END YOUR CODE\n",
        ")\n",
        "\n",
        "df_trans = (\n",
        "    # YOUR CODE START \n",
        "    spark.read.options(header='True', inferSchema='True', delimiter=';').csv('/content/trans.asc')\n",
        "    # / END YOUR CODE\n",
        ")\n",
        "\n",
        "df_order = (\n",
        "    # YOUR CODE START \n",
        "    spark.read.options(header='True', inferSchema='True', delimiter=';').csv('/content/order.asc')\n",
        "    # / END YOUR CODE\n",
        ")\n",
        "\n",
        "df_account = (\n",
        "    # YOUR CODE START \n",
        "    spark.read.options(header='True', inferSchema='True', delimiter=';').csv('/content/account.asc')\n",
        "    # / END YOUR CODE\n",
        ")"
      ]
    },
    {
      "cell_type": "code",
      "source": [
        "df_loan.createOrReplaceTempView('loan_tbl')\n",
        "df_trans.createOrReplaceTempView('trans_tbl')\n",
        "df_order.createOrReplaceTempView('order_tbl')\n",
        "df_account.createOrReplaceTempView('account_tbl')"
      ],
      "metadata": {
        "id": "UaEdlUPwoomK"
      },
      "execution_count": 15,
      "outputs": []
    },
    {
      "cell_type": "markdown",
      "metadata": {
        "id": "-v4AoLZRwxFa",
        "pycharm": {
          "name": "#%% md\n"
        }
      },
      "source": [
        "**Câu 4**. [2đ] Truy xuất top 10 quận (district_id) có số lượng account_id phát hành hàng tháng (tương ứng frequency là POPLATEK MESICNE) là lớn nhất"
      ]
    },
    {
      "cell_type": "code",
      "source": [
        "sql_text = (\n",
        "    '''\n",
        "    select *\n",
        "    from account_tbl\n",
        "    limit 5\n",
        "    '''\n",
        ")\n",
        "spark.sql(sql_text).toPandas()"
      ],
      "metadata": {
        "id": "Lh0pxm3bpgkW",
        "outputId": "d7349eaf-a7e3-43a1-eb6e-672e91d03fa9",
        "colab": {
          "base_uri": "https://localhost:8080/",
          "height": 204
        }
      },
      "execution_count": 17,
      "outputs": [
        {
          "output_type": "execute_result",
          "data": {
            "text/plain": [
              "   account_id  district_id         frequency    date\n",
              "0         576           55  POPLATEK MESICNE  930101\n",
              "1        3818           74  POPLATEK MESICNE  930101\n",
              "2         704           55  POPLATEK MESICNE  930101\n",
              "3        2378           16  POPLATEK MESICNE  930101\n",
              "4        2632           24  POPLATEK MESICNE  930102"
            ],
            "text/html": [
              "\n",
              "  <div id=\"df-496bda52-40d2-438e-b28f-eec89565553d\">\n",
              "    <div class=\"colab-df-container\">\n",
              "      <div>\n",
              "<style scoped>\n",
              "    .dataframe tbody tr th:only-of-type {\n",
              "        vertical-align: middle;\n",
              "    }\n",
              "\n",
              "    .dataframe tbody tr th {\n",
              "        vertical-align: top;\n",
              "    }\n",
              "\n",
              "    .dataframe thead th {\n",
              "        text-align: right;\n",
              "    }\n",
              "</style>\n",
              "<table border=\"1\" class=\"dataframe\">\n",
              "  <thead>\n",
              "    <tr style=\"text-align: right;\">\n",
              "      <th></th>\n",
              "      <th>account_id</th>\n",
              "      <th>district_id</th>\n",
              "      <th>frequency</th>\n",
              "      <th>date</th>\n",
              "    </tr>\n",
              "  </thead>\n",
              "  <tbody>\n",
              "    <tr>\n",
              "      <th>0</th>\n",
              "      <td>576</td>\n",
              "      <td>55</td>\n",
              "      <td>POPLATEK MESICNE</td>\n",
              "      <td>930101</td>\n",
              "    </tr>\n",
              "    <tr>\n",
              "      <th>1</th>\n",
              "      <td>3818</td>\n",
              "      <td>74</td>\n",
              "      <td>POPLATEK MESICNE</td>\n",
              "      <td>930101</td>\n",
              "    </tr>\n",
              "    <tr>\n",
              "      <th>2</th>\n",
              "      <td>704</td>\n",
              "      <td>55</td>\n",
              "      <td>POPLATEK MESICNE</td>\n",
              "      <td>930101</td>\n",
              "    </tr>\n",
              "    <tr>\n",
              "      <th>3</th>\n",
              "      <td>2378</td>\n",
              "      <td>16</td>\n",
              "      <td>POPLATEK MESICNE</td>\n",
              "      <td>930101</td>\n",
              "    </tr>\n",
              "    <tr>\n",
              "      <th>4</th>\n",
              "      <td>2632</td>\n",
              "      <td>24</td>\n",
              "      <td>POPLATEK MESICNE</td>\n",
              "      <td>930102</td>\n",
              "    </tr>\n",
              "  </tbody>\n",
              "</table>\n",
              "</div>\n",
              "      <button class=\"colab-df-convert\" onclick=\"convertToInteractive('df-496bda52-40d2-438e-b28f-eec89565553d')\"\n",
              "              title=\"Convert this dataframe to an interactive table.\"\n",
              "              style=\"display:none;\">\n",
              "        \n",
              "  <svg xmlns=\"http://www.w3.org/2000/svg\" height=\"24px\"viewBox=\"0 0 24 24\"\n",
              "       width=\"24px\">\n",
              "    <path d=\"M0 0h24v24H0V0z\" fill=\"none\"/>\n",
              "    <path d=\"M18.56 5.44l.94 2.06.94-2.06 2.06-.94-2.06-.94-.94-2.06-.94 2.06-2.06.94zm-11 1L8.5 8.5l.94-2.06 2.06-.94-2.06-.94L8.5 2.5l-.94 2.06-2.06.94zm10 10l.94 2.06.94-2.06 2.06-.94-2.06-.94-.94-2.06-.94 2.06-2.06.94z\"/><path d=\"M17.41 7.96l-1.37-1.37c-.4-.4-.92-.59-1.43-.59-.52 0-1.04.2-1.43.59L10.3 9.45l-7.72 7.72c-.78.78-.78 2.05 0 2.83L4 21.41c.39.39.9.59 1.41.59.51 0 1.02-.2 1.41-.59l7.78-7.78 2.81-2.81c.8-.78.8-2.07 0-2.86zM5.41 20L4 18.59l7.72-7.72 1.47 1.35L5.41 20z\"/>\n",
              "  </svg>\n",
              "      </button>\n",
              "      \n",
              "  <style>\n",
              "    .colab-df-container {\n",
              "      display:flex;\n",
              "      flex-wrap:wrap;\n",
              "      gap: 12px;\n",
              "    }\n",
              "\n",
              "    .colab-df-convert {\n",
              "      background-color: #E8F0FE;\n",
              "      border: none;\n",
              "      border-radius: 50%;\n",
              "      cursor: pointer;\n",
              "      display: none;\n",
              "      fill: #1967D2;\n",
              "      height: 32px;\n",
              "      padding: 0 0 0 0;\n",
              "      width: 32px;\n",
              "    }\n",
              "\n",
              "    .colab-df-convert:hover {\n",
              "      background-color: #E2EBFA;\n",
              "      box-shadow: 0px 1px 2px rgba(60, 64, 67, 0.3), 0px 1px 3px 1px rgba(60, 64, 67, 0.15);\n",
              "      fill: #174EA6;\n",
              "    }\n",
              "\n",
              "    [theme=dark] .colab-df-convert {\n",
              "      background-color: #3B4455;\n",
              "      fill: #D2E3FC;\n",
              "    }\n",
              "\n",
              "    [theme=dark] .colab-df-convert:hover {\n",
              "      background-color: #434B5C;\n",
              "      box-shadow: 0px 1px 3px 1px rgba(0, 0, 0, 0.15);\n",
              "      filter: drop-shadow(0px 1px 2px rgba(0, 0, 0, 0.3));\n",
              "      fill: #FFFFFF;\n",
              "    }\n",
              "  </style>\n",
              "\n",
              "      <script>\n",
              "        const buttonEl =\n",
              "          document.querySelector('#df-496bda52-40d2-438e-b28f-eec89565553d button.colab-df-convert');\n",
              "        buttonEl.style.display =\n",
              "          google.colab.kernel.accessAllowed ? 'block' : 'none';\n",
              "\n",
              "        async function convertToInteractive(key) {\n",
              "          const element = document.querySelector('#df-496bda52-40d2-438e-b28f-eec89565553d');\n",
              "          const dataTable =\n",
              "            await google.colab.kernel.invokeFunction('convertToInteractive',\n",
              "                                                     [key], {});\n",
              "          if (!dataTable) return;\n",
              "\n",
              "          const docLinkHtml = 'Like what you see? Visit the ' +\n",
              "            '<a target=\"_blank\" href=https://colab.research.google.com/notebooks/data_table.ipynb>data table notebook</a>'\n",
              "            + ' to learn more about interactive tables.';\n",
              "          element.innerHTML = '';\n",
              "          dataTable['output_type'] = 'display_data';\n",
              "          await google.colab.output.renderOutput(dataTable, element);\n",
              "          const docLink = document.createElement('div');\n",
              "          docLink.innerHTML = docLinkHtml;\n",
              "          element.appendChild(docLink);\n",
              "        }\n",
              "      </script>\n",
              "    </div>\n",
              "  </div>\n",
              "  "
            ]
          },
          "metadata": {},
          "execution_count": 17
        }
      ]
    },
    {
      "cell_type": "code",
      "execution_count": 24,
      "metadata": {
        "id": "llIen6GCwxFb",
        "pycharm": {
          "name": "#%%\n"
        },
        "outputId": "86741056-8634-4d0e-b784-e1512e7762d1",
        "colab": {
          "base_uri": "https://localhost:8080/",
          "height": 359
        }
      },
      "outputs": [
        {
          "output_type": "execute_result",
          "data": {
            "text/plain": [
              "   district_id  count(account_id)\n",
              "0            1                509\n",
              "1           70                145\n",
              "2           74                124\n",
              "3           54                121\n",
              "4           68                 81\n",
              "5           72                 81\n",
              "6           64                 81\n",
              "7            5                 60\n",
              "8           46                 56\n",
              "9           59                 55"
            ],
            "text/html": [
              "\n",
              "  <div id=\"df-ad39cd68-a526-41ee-81b2-b4ea11daeb15\">\n",
              "    <div class=\"colab-df-container\">\n",
              "      <div>\n",
              "<style scoped>\n",
              "    .dataframe tbody tr th:only-of-type {\n",
              "        vertical-align: middle;\n",
              "    }\n",
              "\n",
              "    .dataframe tbody tr th {\n",
              "        vertical-align: top;\n",
              "    }\n",
              "\n",
              "    .dataframe thead th {\n",
              "        text-align: right;\n",
              "    }\n",
              "</style>\n",
              "<table border=\"1\" class=\"dataframe\">\n",
              "  <thead>\n",
              "    <tr style=\"text-align: right;\">\n",
              "      <th></th>\n",
              "      <th>district_id</th>\n",
              "      <th>count(account_id)</th>\n",
              "    </tr>\n",
              "  </thead>\n",
              "  <tbody>\n",
              "    <tr>\n",
              "      <th>0</th>\n",
              "      <td>1</td>\n",
              "      <td>509</td>\n",
              "    </tr>\n",
              "    <tr>\n",
              "      <th>1</th>\n",
              "      <td>70</td>\n",
              "      <td>145</td>\n",
              "    </tr>\n",
              "    <tr>\n",
              "      <th>2</th>\n",
              "      <td>74</td>\n",
              "      <td>124</td>\n",
              "    </tr>\n",
              "    <tr>\n",
              "      <th>3</th>\n",
              "      <td>54</td>\n",
              "      <td>121</td>\n",
              "    </tr>\n",
              "    <tr>\n",
              "      <th>4</th>\n",
              "      <td>68</td>\n",
              "      <td>81</td>\n",
              "    </tr>\n",
              "    <tr>\n",
              "      <th>5</th>\n",
              "      <td>72</td>\n",
              "      <td>81</td>\n",
              "    </tr>\n",
              "    <tr>\n",
              "      <th>6</th>\n",
              "      <td>64</td>\n",
              "      <td>81</td>\n",
              "    </tr>\n",
              "    <tr>\n",
              "      <th>7</th>\n",
              "      <td>5</td>\n",
              "      <td>60</td>\n",
              "    </tr>\n",
              "    <tr>\n",
              "      <th>8</th>\n",
              "      <td>46</td>\n",
              "      <td>56</td>\n",
              "    </tr>\n",
              "    <tr>\n",
              "      <th>9</th>\n",
              "      <td>59</td>\n",
              "      <td>55</td>\n",
              "    </tr>\n",
              "  </tbody>\n",
              "</table>\n",
              "</div>\n",
              "      <button class=\"colab-df-convert\" onclick=\"convertToInteractive('df-ad39cd68-a526-41ee-81b2-b4ea11daeb15')\"\n",
              "              title=\"Convert this dataframe to an interactive table.\"\n",
              "              style=\"display:none;\">\n",
              "        \n",
              "  <svg xmlns=\"http://www.w3.org/2000/svg\" height=\"24px\"viewBox=\"0 0 24 24\"\n",
              "       width=\"24px\">\n",
              "    <path d=\"M0 0h24v24H0V0z\" fill=\"none\"/>\n",
              "    <path d=\"M18.56 5.44l.94 2.06.94-2.06 2.06-.94-2.06-.94-.94-2.06-.94 2.06-2.06.94zm-11 1L8.5 8.5l.94-2.06 2.06-.94-2.06-.94L8.5 2.5l-.94 2.06-2.06.94zm10 10l.94 2.06.94-2.06 2.06-.94-2.06-.94-.94-2.06-.94 2.06-2.06.94z\"/><path d=\"M17.41 7.96l-1.37-1.37c-.4-.4-.92-.59-1.43-.59-.52 0-1.04.2-1.43.59L10.3 9.45l-7.72 7.72c-.78.78-.78 2.05 0 2.83L4 21.41c.39.39.9.59 1.41.59.51 0 1.02-.2 1.41-.59l7.78-7.78 2.81-2.81c.8-.78.8-2.07 0-2.86zM5.41 20L4 18.59l7.72-7.72 1.47 1.35L5.41 20z\"/>\n",
              "  </svg>\n",
              "      </button>\n",
              "      \n",
              "  <style>\n",
              "    .colab-df-container {\n",
              "      display:flex;\n",
              "      flex-wrap:wrap;\n",
              "      gap: 12px;\n",
              "    }\n",
              "\n",
              "    .colab-df-convert {\n",
              "      background-color: #E8F0FE;\n",
              "      border: none;\n",
              "      border-radius: 50%;\n",
              "      cursor: pointer;\n",
              "      display: none;\n",
              "      fill: #1967D2;\n",
              "      height: 32px;\n",
              "      padding: 0 0 0 0;\n",
              "      width: 32px;\n",
              "    }\n",
              "\n",
              "    .colab-df-convert:hover {\n",
              "      background-color: #E2EBFA;\n",
              "      box-shadow: 0px 1px 2px rgba(60, 64, 67, 0.3), 0px 1px 3px 1px rgba(60, 64, 67, 0.15);\n",
              "      fill: #174EA6;\n",
              "    }\n",
              "\n",
              "    [theme=dark] .colab-df-convert {\n",
              "      background-color: #3B4455;\n",
              "      fill: #D2E3FC;\n",
              "    }\n",
              "\n",
              "    [theme=dark] .colab-df-convert:hover {\n",
              "      background-color: #434B5C;\n",
              "      box-shadow: 0px 1px 3px 1px rgba(0, 0, 0, 0.15);\n",
              "      filter: drop-shadow(0px 1px 2px rgba(0, 0, 0, 0.3));\n",
              "      fill: #FFFFFF;\n",
              "    }\n",
              "  </style>\n",
              "\n",
              "      <script>\n",
              "        const buttonEl =\n",
              "          document.querySelector('#df-ad39cd68-a526-41ee-81b2-b4ea11daeb15 button.colab-df-convert');\n",
              "        buttonEl.style.display =\n",
              "          google.colab.kernel.accessAllowed ? 'block' : 'none';\n",
              "\n",
              "        async function convertToInteractive(key) {\n",
              "          const element = document.querySelector('#df-ad39cd68-a526-41ee-81b2-b4ea11daeb15');\n",
              "          const dataTable =\n",
              "            await google.colab.kernel.invokeFunction('convertToInteractive',\n",
              "                                                     [key], {});\n",
              "          if (!dataTable) return;\n",
              "\n",
              "          const docLinkHtml = 'Like what you see? Visit the ' +\n",
              "            '<a target=\"_blank\" href=https://colab.research.google.com/notebooks/data_table.ipynb>data table notebook</a>'\n",
              "            + ' to learn more about interactive tables.';\n",
              "          element.innerHTML = '';\n",
              "          dataTable['output_type'] = 'display_data';\n",
              "          await google.colab.output.renderOutput(dataTable, element);\n",
              "          const docLink = document.createElement('div');\n",
              "          docLink.innerHTML = docLinkHtml;\n",
              "          element.appendChild(docLink);\n",
              "        }\n",
              "      </script>\n",
              "    </div>\n",
              "  </div>\n",
              "  "
            ]
          },
          "metadata": {},
          "execution_count": 24
        }
      ],
      "source": [
        "# YOUR CODE START \n",
        "sql_text = (\n",
        "    \"\"\"\n",
        "    select district_id, count(account_id)\n",
        "    from account_tbl\n",
        "    where frequency = 'POPLATEK MESICNE'\n",
        "    group by district_id\n",
        "    order by count(account_id) desc\n",
        "    limit 10\n",
        "    \"\"\"\n",
        ")\n",
        "spark.sql(sql_text).toPandas()\n",
        "# / END YOUR CODE"
      ]
    },
    {
      "cell_type": "markdown",
      "metadata": {
        "id": "G5rrypjYwxFb",
        "pycharm": {
          "name": "#%% md\n"
        }
      },
      "source": [
        "**Câu 5**. [3đ]\n",
        "Xây dựng ma trận tỷ lệ % loại nợ là A (df_loan.status) tương ứng với loại tài khoản (df_account.frequency) và thời hạn khoản vay (df_loan.duration).\n",
        "\n",
        "Yêu cầu ma trận: cột: loại tài khoản frequency, hàng: thời hạn khoản vay duration, giá trị: tỷ lệ số lượng nợ A/ tổng số lượng khoản nợ"
      ]
    },
    {
      "cell_type": "code",
      "execution_count": 73,
      "metadata": {
        "id": "4MXPzExqwxFb",
        "pycharm": {
          "name": "#%%\n"
        },
        "outputId": "cd1c187b-faf1-4d7b-c848-90ece58db445",
        "colab": {
          "base_uri": "https://localhost:8080/",
          "height": 514
        }
      },
      "outputs": [
        {
          "output_type": "execute_result",
          "data": {
            "text/plain": [
              "             frequency  duration  ((cnt1 / cnt2) * 100)\n",
              "0     POPLATEK MESICNE        24              16.715543\n",
              "1     POPLATEK MESICNE        12              16.422287\n",
              "2     POPLATEK MESICNE        36              14.369501\n",
              "3       POPLATEK TYDNE        48               2.346041\n",
              "4     POPLATEK MESICNE        60              17.741935\n",
              "5       POPLATEK TYDNE        60               3.079179\n",
              "6       POPLATEK TYDNE        36               3.665689\n",
              "7     POPLATEK MESICNE        48              16.715543\n",
              "8       POPLATEK TYDNE        12               2.052786\n",
              "9   POPLATEK PO OBRATU        12               0.733138\n",
              "10  POPLATEK PO OBRATU        24               1.319648\n",
              "11  POPLATEK PO OBRATU        36               1.026393\n",
              "12      POPLATEK TYDNE        24               2.199413\n",
              "13  POPLATEK PO OBRATU        60               0.439883\n",
              "14  POPLATEK PO OBRATU        48               1.173021"
            ],
            "text/html": [
              "\n",
              "  <div id=\"df-80626a85-7fd9-4466-bbee-0ea2b458c059\">\n",
              "    <div class=\"colab-df-container\">\n",
              "      <div>\n",
              "<style scoped>\n",
              "    .dataframe tbody tr th:only-of-type {\n",
              "        vertical-align: middle;\n",
              "    }\n",
              "\n",
              "    .dataframe tbody tr th {\n",
              "        vertical-align: top;\n",
              "    }\n",
              "\n",
              "    .dataframe thead th {\n",
              "        text-align: right;\n",
              "    }\n",
              "</style>\n",
              "<table border=\"1\" class=\"dataframe\">\n",
              "  <thead>\n",
              "    <tr style=\"text-align: right;\">\n",
              "      <th></th>\n",
              "      <th>frequency</th>\n",
              "      <th>duration</th>\n",
              "      <th>((cnt1 / cnt2) * 100)</th>\n",
              "    </tr>\n",
              "  </thead>\n",
              "  <tbody>\n",
              "    <tr>\n",
              "      <th>0</th>\n",
              "      <td>POPLATEK MESICNE</td>\n",
              "      <td>24</td>\n",
              "      <td>16.715543</td>\n",
              "    </tr>\n",
              "    <tr>\n",
              "      <th>1</th>\n",
              "      <td>POPLATEK MESICNE</td>\n",
              "      <td>12</td>\n",
              "      <td>16.422287</td>\n",
              "    </tr>\n",
              "    <tr>\n",
              "      <th>2</th>\n",
              "      <td>POPLATEK MESICNE</td>\n",
              "      <td>36</td>\n",
              "      <td>14.369501</td>\n",
              "    </tr>\n",
              "    <tr>\n",
              "      <th>3</th>\n",
              "      <td>POPLATEK TYDNE</td>\n",
              "      <td>48</td>\n",
              "      <td>2.346041</td>\n",
              "    </tr>\n",
              "    <tr>\n",
              "      <th>4</th>\n",
              "      <td>POPLATEK MESICNE</td>\n",
              "      <td>60</td>\n",
              "      <td>17.741935</td>\n",
              "    </tr>\n",
              "    <tr>\n",
              "      <th>5</th>\n",
              "      <td>POPLATEK TYDNE</td>\n",
              "      <td>60</td>\n",
              "      <td>3.079179</td>\n",
              "    </tr>\n",
              "    <tr>\n",
              "      <th>6</th>\n",
              "      <td>POPLATEK TYDNE</td>\n",
              "      <td>36</td>\n",
              "      <td>3.665689</td>\n",
              "    </tr>\n",
              "    <tr>\n",
              "      <th>7</th>\n",
              "      <td>POPLATEK MESICNE</td>\n",
              "      <td>48</td>\n",
              "      <td>16.715543</td>\n",
              "    </tr>\n",
              "    <tr>\n",
              "      <th>8</th>\n",
              "      <td>POPLATEK TYDNE</td>\n",
              "      <td>12</td>\n",
              "      <td>2.052786</td>\n",
              "    </tr>\n",
              "    <tr>\n",
              "      <th>9</th>\n",
              "      <td>POPLATEK PO OBRATU</td>\n",
              "      <td>12</td>\n",
              "      <td>0.733138</td>\n",
              "    </tr>\n",
              "    <tr>\n",
              "      <th>10</th>\n",
              "      <td>POPLATEK PO OBRATU</td>\n",
              "      <td>24</td>\n",
              "      <td>1.319648</td>\n",
              "    </tr>\n",
              "    <tr>\n",
              "      <th>11</th>\n",
              "      <td>POPLATEK PO OBRATU</td>\n",
              "      <td>36</td>\n",
              "      <td>1.026393</td>\n",
              "    </tr>\n",
              "    <tr>\n",
              "      <th>12</th>\n",
              "      <td>POPLATEK TYDNE</td>\n",
              "      <td>24</td>\n",
              "      <td>2.199413</td>\n",
              "    </tr>\n",
              "    <tr>\n",
              "      <th>13</th>\n",
              "      <td>POPLATEK PO OBRATU</td>\n",
              "      <td>60</td>\n",
              "      <td>0.439883</td>\n",
              "    </tr>\n",
              "    <tr>\n",
              "      <th>14</th>\n",
              "      <td>POPLATEK PO OBRATU</td>\n",
              "      <td>48</td>\n",
              "      <td>1.173021</td>\n",
              "    </tr>\n",
              "  </tbody>\n",
              "</table>\n",
              "</div>\n",
              "      <button class=\"colab-df-convert\" onclick=\"convertToInteractive('df-80626a85-7fd9-4466-bbee-0ea2b458c059')\"\n",
              "              title=\"Convert this dataframe to an interactive table.\"\n",
              "              style=\"display:none;\">\n",
              "        \n",
              "  <svg xmlns=\"http://www.w3.org/2000/svg\" height=\"24px\"viewBox=\"0 0 24 24\"\n",
              "       width=\"24px\">\n",
              "    <path d=\"M0 0h24v24H0V0z\" fill=\"none\"/>\n",
              "    <path d=\"M18.56 5.44l.94 2.06.94-2.06 2.06-.94-2.06-.94-.94-2.06-.94 2.06-2.06.94zm-11 1L8.5 8.5l.94-2.06 2.06-.94-2.06-.94L8.5 2.5l-.94 2.06-2.06.94zm10 10l.94 2.06.94-2.06 2.06-.94-2.06-.94-.94-2.06-.94 2.06-2.06.94z\"/><path d=\"M17.41 7.96l-1.37-1.37c-.4-.4-.92-.59-1.43-.59-.52 0-1.04.2-1.43.59L10.3 9.45l-7.72 7.72c-.78.78-.78 2.05 0 2.83L4 21.41c.39.39.9.59 1.41.59.51 0 1.02-.2 1.41-.59l7.78-7.78 2.81-2.81c.8-.78.8-2.07 0-2.86zM5.41 20L4 18.59l7.72-7.72 1.47 1.35L5.41 20z\"/>\n",
              "  </svg>\n",
              "      </button>\n",
              "      \n",
              "  <style>\n",
              "    .colab-df-container {\n",
              "      display:flex;\n",
              "      flex-wrap:wrap;\n",
              "      gap: 12px;\n",
              "    }\n",
              "\n",
              "    .colab-df-convert {\n",
              "      background-color: #E8F0FE;\n",
              "      border: none;\n",
              "      border-radius: 50%;\n",
              "      cursor: pointer;\n",
              "      display: none;\n",
              "      fill: #1967D2;\n",
              "      height: 32px;\n",
              "      padding: 0 0 0 0;\n",
              "      width: 32px;\n",
              "    }\n",
              "\n",
              "    .colab-df-convert:hover {\n",
              "      background-color: #E2EBFA;\n",
              "      box-shadow: 0px 1px 2px rgba(60, 64, 67, 0.3), 0px 1px 3px 1px rgba(60, 64, 67, 0.15);\n",
              "      fill: #174EA6;\n",
              "    }\n",
              "\n",
              "    [theme=dark] .colab-df-convert {\n",
              "      background-color: #3B4455;\n",
              "      fill: #D2E3FC;\n",
              "    }\n",
              "\n",
              "    [theme=dark] .colab-df-convert:hover {\n",
              "      background-color: #434B5C;\n",
              "      box-shadow: 0px 1px 3px 1px rgba(0, 0, 0, 0.15);\n",
              "      filter: drop-shadow(0px 1px 2px rgba(0, 0, 0, 0.3));\n",
              "      fill: #FFFFFF;\n",
              "    }\n",
              "  </style>\n",
              "\n",
              "      <script>\n",
              "        const buttonEl =\n",
              "          document.querySelector('#df-80626a85-7fd9-4466-bbee-0ea2b458c059 button.colab-df-convert');\n",
              "        buttonEl.style.display =\n",
              "          google.colab.kernel.accessAllowed ? 'block' : 'none';\n",
              "\n",
              "        async function convertToInteractive(key) {\n",
              "          const element = document.querySelector('#df-80626a85-7fd9-4466-bbee-0ea2b458c059');\n",
              "          const dataTable =\n",
              "            await google.colab.kernel.invokeFunction('convertToInteractive',\n",
              "                                                     [key], {});\n",
              "          if (!dataTable) return;\n",
              "\n",
              "          const docLinkHtml = 'Like what you see? Visit the ' +\n",
              "            '<a target=\"_blank\" href=https://colab.research.google.com/notebooks/data_table.ipynb>data table notebook</a>'\n",
              "            + ' to learn more about interactive tables.';\n",
              "          element.innerHTML = '';\n",
              "          dataTable['output_type'] = 'display_data';\n",
              "          await google.colab.output.renderOutput(dataTable, element);\n",
              "          const docLink = document.createElement('div');\n",
              "          docLink.innerHTML = docLinkHtml;\n",
              "          element.appendChild(docLink);\n",
              "        }\n",
              "      </script>\n",
              "    </div>\n",
              "  </div>\n",
              "  "
            ]
          },
          "metadata": {},
          "execution_count": 73
        }
      ],
      "source": [
        "\n",
        "# YOUR CODE START \n",
        "sql_text = (\n",
        "    \"\"\"\n",
        "    select frequency, duration, cnt1/cnt2*100\n",
        "    from(\n",
        "      select a.frequency, b.duration, count(*) as cnt1, (select count(*) from loan_tbl) as cnt2\n",
        "      from(\n",
        "        select *\n",
        "        from account_tbl\n",
        "      ) as a\n",
        "      inner join(\n",
        "        select *\n",
        "        from loan_tbl\n",
        "      ) as b\n",
        "      on a.account_id = b.account_id\n",
        "      group by a.frequency, b.duration\n",
        "    )\n",
        "    \"\"\"\n",
        ")\n",
        "spark.sql(sql_text).toPandas()\n",
        "\n",
        "# / END YOUR CODE"
      ]
    },
    {
      "cell_type": "markdown",
      "metadata": {
        "id": "n_hYq0-zwxFb",
        "pycharm": {
          "name": "#%% md\n"
        }
      },
      "source": [
        "**Câu 6**. [3đ] Ngân hàng quen thuộc của một account_id được định nghĩa là ngân hàng (df_order.bank_to) mà có tổng số giá trị giao dịch (df_order.amount) mà người account_id đó giao dịch nhiều nhất. Trong số các account_id phát hành hàng tháng (POPLATEK MESICNE), người dùng của ngân hàng quen thuộc nào có tỷ lệ nợ loại A thấp nhất?"
      ]
    },
    {
      "cell_type": "code",
      "execution_count": 81,
      "metadata": {
        "id": "pYz6LlD6wxFc",
        "pycharm": {
          "name": "#%%\n"
        },
        "outputId": "1f88a829-53e9-4f8c-f886-1685355df7bc",
        "colab": {
          "base_uri": "https://localhost:8080/",
          "height": 419
        }
      },
      "outputs": [
        {
          "output_type": "execute_result",
          "data": {
            "text/plain": [
              "      account_id bank_to  max(cnt)\n",
              "0              1      YZ         1\n",
              "1              2      ST         1\n",
              "2              2      QR         1\n",
              "3              3      WX         1\n",
              "4              3      CD         1\n",
              "...          ...     ...       ...\n",
              "5640       11362      ST         1\n",
              "5641       11362      KL         1\n",
              "5642        2372      KL         1\n",
              "5643        7819      WX         1\n",
              "5644        8159      GH         1\n",
              "\n",
              "[5645 rows x 3 columns]"
            ],
            "text/html": [
              "\n",
              "  <div id=\"df-b7110c79-dfee-4e95-b3ee-8774f62eb461\">\n",
              "    <div class=\"colab-df-container\">\n",
              "      <div>\n",
              "<style scoped>\n",
              "    .dataframe tbody tr th:only-of-type {\n",
              "        vertical-align: middle;\n",
              "    }\n",
              "\n",
              "    .dataframe tbody tr th {\n",
              "        vertical-align: top;\n",
              "    }\n",
              "\n",
              "    .dataframe thead th {\n",
              "        text-align: right;\n",
              "    }\n",
              "</style>\n",
              "<table border=\"1\" class=\"dataframe\">\n",
              "  <thead>\n",
              "    <tr style=\"text-align: right;\">\n",
              "      <th></th>\n",
              "      <th>account_id</th>\n",
              "      <th>bank_to</th>\n",
              "      <th>max(cnt)</th>\n",
              "    </tr>\n",
              "  </thead>\n",
              "  <tbody>\n",
              "    <tr>\n",
              "      <th>0</th>\n",
              "      <td>1</td>\n",
              "      <td>YZ</td>\n",
              "      <td>1</td>\n",
              "    </tr>\n",
              "    <tr>\n",
              "      <th>1</th>\n",
              "      <td>2</td>\n",
              "      <td>ST</td>\n",
              "      <td>1</td>\n",
              "    </tr>\n",
              "    <tr>\n",
              "      <th>2</th>\n",
              "      <td>2</td>\n",
              "      <td>QR</td>\n",
              "      <td>1</td>\n",
              "    </tr>\n",
              "    <tr>\n",
              "      <th>3</th>\n",
              "      <td>3</td>\n",
              "      <td>WX</td>\n",
              "      <td>1</td>\n",
              "    </tr>\n",
              "    <tr>\n",
              "      <th>4</th>\n",
              "      <td>3</td>\n",
              "      <td>CD</td>\n",
              "      <td>1</td>\n",
              "    </tr>\n",
              "    <tr>\n",
              "      <th>...</th>\n",
              "      <td>...</td>\n",
              "      <td>...</td>\n",
              "      <td>...</td>\n",
              "    </tr>\n",
              "    <tr>\n",
              "      <th>5640</th>\n",
              "      <td>11362</td>\n",
              "      <td>ST</td>\n",
              "      <td>1</td>\n",
              "    </tr>\n",
              "    <tr>\n",
              "      <th>5641</th>\n",
              "      <td>11362</td>\n",
              "      <td>KL</td>\n",
              "      <td>1</td>\n",
              "    </tr>\n",
              "    <tr>\n",
              "      <th>5642</th>\n",
              "      <td>2372</td>\n",
              "      <td>KL</td>\n",
              "      <td>1</td>\n",
              "    </tr>\n",
              "    <tr>\n",
              "      <th>5643</th>\n",
              "      <td>7819</td>\n",
              "      <td>WX</td>\n",
              "      <td>1</td>\n",
              "    </tr>\n",
              "    <tr>\n",
              "      <th>5644</th>\n",
              "      <td>8159</td>\n",
              "      <td>GH</td>\n",
              "      <td>1</td>\n",
              "    </tr>\n",
              "  </tbody>\n",
              "</table>\n",
              "<p>5645 rows × 3 columns</p>\n",
              "</div>\n",
              "      <button class=\"colab-df-convert\" onclick=\"convertToInteractive('df-b7110c79-dfee-4e95-b3ee-8774f62eb461')\"\n",
              "              title=\"Convert this dataframe to an interactive table.\"\n",
              "              style=\"display:none;\">\n",
              "        \n",
              "  <svg xmlns=\"http://www.w3.org/2000/svg\" height=\"24px\"viewBox=\"0 0 24 24\"\n",
              "       width=\"24px\">\n",
              "    <path d=\"M0 0h24v24H0V0z\" fill=\"none\"/>\n",
              "    <path d=\"M18.56 5.44l.94 2.06.94-2.06 2.06-.94-2.06-.94-.94-2.06-.94 2.06-2.06.94zm-11 1L8.5 8.5l.94-2.06 2.06-.94-2.06-.94L8.5 2.5l-.94 2.06-2.06.94zm10 10l.94 2.06.94-2.06 2.06-.94-2.06-.94-.94-2.06-.94 2.06-2.06.94z\"/><path d=\"M17.41 7.96l-1.37-1.37c-.4-.4-.92-.59-1.43-.59-.52 0-1.04.2-1.43.59L10.3 9.45l-7.72 7.72c-.78.78-.78 2.05 0 2.83L4 21.41c.39.39.9.59 1.41.59.51 0 1.02-.2 1.41-.59l7.78-7.78 2.81-2.81c.8-.78.8-2.07 0-2.86zM5.41 20L4 18.59l7.72-7.72 1.47 1.35L5.41 20z\"/>\n",
              "  </svg>\n",
              "      </button>\n",
              "      \n",
              "  <style>\n",
              "    .colab-df-container {\n",
              "      display:flex;\n",
              "      flex-wrap:wrap;\n",
              "      gap: 12px;\n",
              "    }\n",
              "\n",
              "    .colab-df-convert {\n",
              "      background-color: #E8F0FE;\n",
              "      border: none;\n",
              "      border-radius: 50%;\n",
              "      cursor: pointer;\n",
              "      display: none;\n",
              "      fill: #1967D2;\n",
              "      height: 32px;\n",
              "      padding: 0 0 0 0;\n",
              "      width: 32px;\n",
              "    }\n",
              "\n",
              "    .colab-df-convert:hover {\n",
              "      background-color: #E2EBFA;\n",
              "      box-shadow: 0px 1px 2px rgba(60, 64, 67, 0.3), 0px 1px 3px 1px rgba(60, 64, 67, 0.15);\n",
              "      fill: #174EA6;\n",
              "    }\n",
              "\n",
              "    [theme=dark] .colab-df-convert {\n",
              "      background-color: #3B4455;\n",
              "      fill: #D2E3FC;\n",
              "    }\n",
              "\n",
              "    [theme=dark] .colab-df-convert:hover {\n",
              "      background-color: #434B5C;\n",
              "      box-shadow: 0px 1px 3px 1px rgba(0, 0, 0, 0.15);\n",
              "      filter: drop-shadow(0px 1px 2px rgba(0, 0, 0, 0.3));\n",
              "      fill: #FFFFFF;\n",
              "    }\n",
              "  </style>\n",
              "\n",
              "      <script>\n",
              "        const buttonEl =\n",
              "          document.querySelector('#df-b7110c79-dfee-4e95-b3ee-8774f62eb461 button.colab-df-convert');\n",
              "        buttonEl.style.display =\n",
              "          google.colab.kernel.accessAllowed ? 'block' : 'none';\n",
              "\n",
              "        async function convertToInteractive(key) {\n",
              "          const element = document.querySelector('#df-b7110c79-dfee-4e95-b3ee-8774f62eb461');\n",
              "          const dataTable =\n",
              "            await google.colab.kernel.invokeFunction('convertToInteractive',\n",
              "                                                     [key], {});\n",
              "          if (!dataTable) return;\n",
              "\n",
              "          const docLinkHtml = 'Like what you see? Visit the ' +\n",
              "            '<a target=\"_blank\" href=https://colab.research.google.com/notebooks/data_table.ipynb>data table notebook</a>'\n",
              "            + ' to learn more about interactive tables.';\n",
              "          element.innerHTML = '';\n",
              "          dataTable['output_type'] = 'display_data';\n",
              "          await google.colab.output.renderOutput(dataTable, element);\n",
              "          const docLink = document.createElement('div');\n",
              "          docLink.innerHTML = docLinkHtml;\n",
              "          element.appendChild(docLink);\n",
              "        }\n",
              "      </script>\n",
              "    </div>\n",
              "  </div>\n",
              "  "
            ]
          },
          "metadata": {},
          "execution_count": 81
        }
      ],
      "source": [
        "# YOUR CODE START \n",
        "sql_text = (\n",
        "    \"\"\"\n",
        "    select account_id, bank_to, max(cnt)\n",
        "    from(\n",
        "      select a.account_id, b.bank_to, count(*) as cnt\n",
        "      from(\n",
        "        select *\n",
        "        from account_tbl\n",
        "        where frequency='POPLATEK MESICNE'\n",
        "      ) as a\n",
        "      inner join(\n",
        "        select *\n",
        "        from order_tbl\n",
        "      ) as b\n",
        "      on a.account_id = b.account_id\n",
        "      group by a.account_id, b.bank_to\n",
        "      )\n",
        "    group by account_id, bank_to\n",
        "    \"\"\"\n",
        ")\n",
        "spark.sql(sql_text).toPandas()\n",
        "\n",
        "# / END YOUR CODE"
      ]
    },
    {
      "cell_type": "markdown",
      "metadata": {
        "id": "cdIs0bhuwxFd",
        "pycharm": {
          "name": "#%% md\n"
        }
      },
      "source": [
        "### PHẦN III. MODELING\n",
        "TỰ CHỌN <br>\n",
        "[ 6 điểm ] <br>\n",
        "DS chọn 1 trong 2 câu II.a hoặc II.b\n",
        "**Chỉ sử dụng dữ liệu train đã được chia sẵn để huấn luyện model, không sử dụng tập test.** <br>\n",
        "Có thể sử dụng tập test để đánh giá độ chính xác của model.\n",
        "\n",
        "Điểm số được chấm dựa trên độ chính xác của model trên tập test.\n",
        "\n",
        "**Yêu cầu**: xây dựng mô hình học máy phân loại loại nợ (df_loan.status) dựa trên thông tin từ các bảng dữ liệu đã có (trừ trường nhãn df_loan.status, được sử dụng tất cả các trường còn lại)"
      ]
    },
    {
      "cell_type": "markdown",
      "metadata": {
        "id": "dWBLe9_wwxFd",
        "pycharm": {
          "name": "#%% md\n"
        }
      },
      "source": [
        "**Câu III.a**. Xây dựng mô hình trên môi trường pyspark"
      ]
    },
    {
      "cell_type": "code",
      "source": [
        "# CHẠY ĐOẠN CODE SAU\n",
        "train_label, test_label = df_loan.randomSplit([0.7, 0.3], seed=12345)"
      ],
      "metadata": {
        "id": "KjwQme1yINxE",
        "pycharm": {
          "name": "#%%\n"
        }
      },
      "execution_count": null,
      "outputs": []
    },
    {
      "cell_type": "markdown",
      "source": [
        "Chỉ sử dụng các loan_id trong tập train và huấn luyện model\n",
        "\n",
        "**YÊU CẦU ĐẦU RA** <br>\n",
        "Dataframe: df_pred {loan_id: int, status: varchar}, trong đó loan_id là các id tương ứng trong bộ test_label"
      ],
      "metadata": {
        "id": "WXgOpyu4JJYe",
        "pycharm": {
          "name": "#%% md\n"
        }
      }
    },
    {
      "cell_type": "code",
      "execution_count": null,
      "metadata": {
        "id": "FOFdTppEwxFd",
        "pycharm": {
          "name": "#%%\n"
        }
      },
      "outputs": [],
      "source": [
        "# YOUR CODE START \n",
        "\n",
        "\n",
        "\n",
        "# / END YOUR CODE"
      ]
    },
    {
      "cell_type": "markdown",
      "metadata": {
        "id": "RDZ5dXJlwxFd",
        "pycharm": {
          "name": "#%% md\n"
        }
      },
      "source": [
        "**Câu III.b**. Xây dựng mô hình với pandas (sklearn hoặc tensorflow)"
      ]
    },
    {
      "cell_type": "code",
      "source": [
        "# CHẠY ĐOẠN CODE SAU\n",
        "train_label, test_label = df_loan.randomSplit([0.7, 0.3], seed=12345)\n",
        "train_label = train_label.toPandas()\n",
        "test_label = test_label.toPandas()"
      ],
      "metadata": {
        "id": "4yuJ8XRnQ9Hi",
        "pycharm": {
          "name": "#%%\n"
        }
      },
      "execution_count": 25,
      "outputs": []
    },
    {
      "cell_type": "markdown",
      "source": [
        "Chỉ sử dụng các loan_id trong tập train và huấn luyện model\n",
        "\n",
        "**YÊU CẦU ĐẦU RA** <br>\n",
        "Dataframe: df_pred {loan_id: int, status: varchar}, trong đó loan_id là các id tương ứng trong bộ test_label"
      ],
      "metadata": {
        "id": "rLM2_KJfRV40",
        "pycharm": {
          "name": "#%% md\n"
        }
      }
    },
    {
      "cell_type": "code",
      "source": [
        "from pandas import read_csv\n",
        "from sklearn.model_selection import train_test_split\n",
        "from sklearn.preprocessing import LabelEncoder\n",
        "from sklearn.preprocessing import OrdinalEncoder\n",
        "from keras.models import Sequential\n",
        "from keras.layers import Dense\n",
        "from sklearn.compose import ColumnTransformer\n",
        "from sklearn.datasets import fetch_openml\n",
        "from sklearn.pipeline import Pipeline\n",
        "from sklearn.impute import SimpleImputer\n",
        "from sklearn.preprocessing import StandardScaler, OneHotEncoder\n",
        "from sklearn.linear_model import LogisticRegression\n",
        "from sklearn.model_selection import train_test_split, GridSearchCV\n",
        "from sklearn.naive_bayes import GaussianNB"
      ],
      "metadata": {
        "id": "mbZQWAUutPv8"
      },
      "execution_count": 48,
      "outputs": []
    },
    {
      "cell_type": "code",
      "source": [
        "train_label.head()"
      ],
      "metadata": {
        "id": "tWbNPS_SqsYs",
        "outputId": "1404be45-67af-479d-b745-af44faabfa18",
        "colab": {
          "base_uri": "https://localhost:8080/",
          "height": 204
        }
      },
      "execution_count": 26,
      "outputs": [
        {
          "output_type": "execute_result",
          "data": {
            "text/plain": [
              "   loan_id  account_id    date  amount  duration  payments status\n",
              "0     4959           2  940105   80952        24    3373.0      A\n",
              "1     4961          19  960429   30276        12    2523.0      B\n",
              "2     4962          25  971208   30276        12    2523.0      A\n",
              "3     4967          37  981014  318480        60    5308.0      D\n",
              "4     4968          38  980419  110736        48    2307.0      C"
            ],
            "text/html": [
              "\n",
              "  <div id=\"df-42bc9fcd-45bf-4026-873a-0c5eceed298f\">\n",
              "    <div class=\"colab-df-container\">\n",
              "      <div>\n",
              "<style scoped>\n",
              "    .dataframe tbody tr th:only-of-type {\n",
              "        vertical-align: middle;\n",
              "    }\n",
              "\n",
              "    .dataframe tbody tr th {\n",
              "        vertical-align: top;\n",
              "    }\n",
              "\n",
              "    .dataframe thead th {\n",
              "        text-align: right;\n",
              "    }\n",
              "</style>\n",
              "<table border=\"1\" class=\"dataframe\">\n",
              "  <thead>\n",
              "    <tr style=\"text-align: right;\">\n",
              "      <th></th>\n",
              "      <th>loan_id</th>\n",
              "      <th>account_id</th>\n",
              "      <th>date</th>\n",
              "      <th>amount</th>\n",
              "      <th>duration</th>\n",
              "      <th>payments</th>\n",
              "      <th>status</th>\n",
              "    </tr>\n",
              "  </thead>\n",
              "  <tbody>\n",
              "    <tr>\n",
              "      <th>0</th>\n",
              "      <td>4959</td>\n",
              "      <td>2</td>\n",
              "      <td>940105</td>\n",
              "      <td>80952</td>\n",
              "      <td>24</td>\n",
              "      <td>3373.0</td>\n",
              "      <td>A</td>\n",
              "    </tr>\n",
              "    <tr>\n",
              "      <th>1</th>\n",
              "      <td>4961</td>\n",
              "      <td>19</td>\n",
              "      <td>960429</td>\n",
              "      <td>30276</td>\n",
              "      <td>12</td>\n",
              "      <td>2523.0</td>\n",
              "      <td>B</td>\n",
              "    </tr>\n",
              "    <tr>\n",
              "      <th>2</th>\n",
              "      <td>4962</td>\n",
              "      <td>25</td>\n",
              "      <td>971208</td>\n",
              "      <td>30276</td>\n",
              "      <td>12</td>\n",
              "      <td>2523.0</td>\n",
              "      <td>A</td>\n",
              "    </tr>\n",
              "    <tr>\n",
              "      <th>3</th>\n",
              "      <td>4967</td>\n",
              "      <td>37</td>\n",
              "      <td>981014</td>\n",
              "      <td>318480</td>\n",
              "      <td>60</td>\n",
              "      <td>5308.0</td>\n",
              "      <td>D</td>\n",
              "    </tr>\n",
              "    <tr>\n",
              "      <th>4</th>\n",
              "      <td>4968</td>\n",
              "      <td>38</td>\n",
              "      <td>980419</td>\n",
              "      <td>110736</td>\n",
              "      <td>48</td>\n",
              "      <td>2307.0</td>\n",
              "      <td>C</td>\n",
              "    </tr>\n",
              "  </tbody>\n",
              "</table>\n",
              "</div>\n",
              "      <button class=\"colab-df-convert\" onclick=\"convertToInteractive('df-42bc9fcd-45bf-4026-873a-0c5eceed298f')\"\n",
              "              title=\"Convert this dataframe to an interactive table.\"\n",
              "              style=\"display:none;\">\n",
              "        \n",
              "  <svg xmlns=\"http://www.w3.org/2000/svg\" height=\"24px\"viewBox=\"0 0 24 24\"\n",
              "       width=\"24px\">\n",
              "    <path d=\"M0 0h24v24H0V0z\" fill=\"none\"/>\n",
              "    <path d=\"M18.56 5.44l.94 2.06.94-2.06 2.06-.94-2.06-.94-.94-2.06-.94 2.06-2.06.94zm-11 1L8.5 8.5l.94-2.06 2.06-.94-2.06-.94L8.5 2.5l-.94 2.06-2.06.94zm10 10l.94 2.06.94-2.06 2.06-.94-2.06-.94-.94-2.06-.94 2.06-2.06.94z\"/><path d=\"M17.41 7.96l-1.37-1.37c-.4-.4-.92-.59-1.43-.59-.52 0-1.04.2-1.43.59L10.3 9.45l-7.72 7.72c-.78.78-.78 2.05 0 2.83L4 21.41c.39.39.9.59 1.41.59.51 0 1.02-.2 1.41-.59l7.78-7.78 2.81-2.81c.8-.78.8-2.07 0-2.86zM5.41 20L4 18.59l7.72-7.72 1.47 1.35L5.41 20z\"/>\n",
              "  </svg>\n",
              "      </button>\n",
              "      \n",
              "  <style>\n",
              "    .colab-df-container {\n",
              "      display:flex;\n",
              "      flex-wrap:wrap;\n",
              "      gap: 12px;\n",
              "    }\n",
              "\n",
              "    .colab-df-convert {\n",
              "      background-color: #E8F0FE;\n",
              "      border: none;\n",
              "      border-radius: 50%;\n",
              "      cursor: pointer;\n",
              "      display: none;\n",
              "      fill: #1967D2;\n",
              "      height: 32px;\n",
              "      padding: 0 0 0 0;\n",
              "      width: 32px;\n",
              "    }\n",
              "\n",
              "    .colab-df-convert:hover {\n",
              "      background-color: #E2EBFA;\n",
              "      box-shadow: 0px 1px 2px rgba(60, 64, 67, 0.3), 0px 1px 3px 1px rgba(60, 64, 67, 0.15);\n",
              "      fill: #174EA6;\n",
              "    }\n",
              "\n",
              "    [theme=dark] .colab-df-convert {\n",
              "      background-color: #3B4455;\n",
              "      fill: #D2E3FC;\n",
              "    }\n",
              "\n",
              "    [theme=dark] .colab-df-convert:hover {\n",
              "      background-color: #434B5C;\n",
              "      box-shadow: 0px 1px 3px 1px rgba(0, 0, 0, 0.15);\n",
              "      filter: drop-shadow(0px 1px 2px rgba(0, 0, 0, 0.3));\n",
              "      fill: #FFFFFF;\n",
              "    }\n",
              "  </style>\n",
              "\n",
              "      <script>\n",
              "        const buttonEl =\n",
              "          document.querySelector('#df-42bc9fcd-45bf-4026-873a-0c5eceed298f button.colab-df-convert');\n",
              "        buttonEl.style.display =\n",
              "          google.colab.kernel.accessAllowed ? 'block' : 'none';\n",
              "\n",
              "        async function convertToInteractive(key) {\n",
              "          const element = document.querySelector('#df-42bc9fcd-45bf-4026-873a-0c5eceed298f');\n",
              "          const dataTable =\n",
              "            await google.colab.kernel.invokeFunction('convertToInteractive',\n",
              "                                                     [key], {});\n",
              "          if (!dataTable) return;\n",
              "\n",
              "          const docLinkHtml = 'Like what you see? Visit the ' +\n",
              "            '<a target=\"_blank\" href=https://colab.research.google.com/notebooks/data_table.ipynb>data table notebook</a>'\n",
              "            + ' to learn more about interactive tables.';\n",
              "          element.innerHTML = '';\n",
              "          dataTable['output_type'] = 'display_data';\n",
              "          await google.colab.output.renderOutput(dataTable, element);\n",
              "          const docLink = document.createElement('div');\n",
              "          docLink.innerHTML = docLinkHtml;\n",
              "          element.appendChild(docLink);\n",
              "        }\n",
              "      </script>\n",
              "    </div>\n",
              "  </div>\n",
              "  "
            ]
          },
          "metadata": {},
          "execution_count": 26
        }
      ]
    },
    {
      "cell_type": "code",
      "source": [
        "test_label.head()"
      ],
      "metadata": {
        "id": "XtBjrKMcqvaR",
        "outputId": "56eb1ae8-db8b-47ef-dc81-ded4d9497392",
        "colab": {
          "base_uri": "https://localhost:8080/",
          "height": 204
        }
      },
      "execution_count": 27,
      "outputs": [
        {
          "output_type": "execute_result",
          "data": {
            "text/plain": [
              "   loan_id  account_id    date  amount  duration  payments status\n",
              "0     4986          97  970810  102876        12    8573.0      A\n",
              "1     5015         226  980712  109344        12    9112.0      C\n",
              "2     5036         309  981125   91248        48    1901.0      C\n",
              "3     5046         349  980909   42816        12    3568.0      C\n",
              "4     5051         378  971011  230400        60    3840.0      C"
            ],
            "text/html": [
              "\n",
              "  <div id=\"df-38c0aa07-a26a-4120-a1d0-db191a2831ae\">\n",
              "    <div class=\"colab-df-container\">\n",
              "      <div>\n",
              "<style scoped>\n",
              "    .dataframe tbody tr th:only-of-type {\n",
              "        vertical-align: middle;\n",
              "    }\n",
              "\n",
              "    .dataframe tbody tr th {\n",
              "        vertical-align: top;\n",
              "    }\n",
              "\n",
              "    .dataframe thead th {\n",
              "        text-align: right;\n",
              "    }\n",
              "</style>\n",
              "<table border=\"1\" class=\"dataframe\">\n",
              "  <thead>\n",
              "    <tr style=\"text-align: right;\">\n",
              "      <th></th>\n",
              "      <th>loan_id</th>\n",
              "      <th>account_id</th>\n",
              "      <th>date</th>\n",
              "      <th>amount</th>\n",
              "      <th>duration</th>\n",
              "      <th>payments</th>\n",
              "      <th>status</th>\n",
              "    </tr>\n",
              "  </thead>\n",
              "  <tbody>\n",
              "    <tr>\n",
              "      <th>0</th>\n",
              "      <td>4986</td>\n",
              "      <td>97</td>\n",
              "      <td>970810</td>\n",
              "      <td>102876</td>\n",
              "      <td>12</td>\n",
              "      <td>8573.0</td>\n",
              "      <td>A</td>\n",
              "    </tr>\n",
              "    <tr>\n",
              "      <th>1</th>\n",
              "      <td>5015</td>\n",
              "      <td>226</td>\n",
              "      <td>980712</td>\n",
              "      <td>109344</td>\n",
              "      <td>12</td>\n",
              "      <td>9112.0</td>\n",
              "      <td>C</td>\n",
              "    </tr>\n",
              "    <tr>\n",
              "      <th>2</th>\n",
              "      <td>5036</td>\n",
              "      <td>309</td>\n",
              "      <td>981125</td>\n",
              "      <td>91248</td>\n",
              "      <td>48</td>\n",
              "      <td>1901.0</td>\n",
              "      <td>C</td>\n",
              "    </tr>\n",
              "    <tr>\n",
              "      <th>3</th>\n",
              "      <td>5046</td>\n",
              "      <td>349</td>\n",
              "      <td>980909</td>\n",
              "      <td>42816</td>\n",
              "      <td>12</td>\n",
              "      <td>3568.0</td>\n",
              "      <td>C</td>\n",
              "    </tr>\n",
              "    <tr>\n",
              "      <th>4</th>\n",
              "      <td>5051</td>\n",
              "      <td>378</td>\n",
              "      <td>971011</td>\n",
              "      <td>230400</td>\n",
              "      <td>60</td>\n",
              "      <td>3840.0</td>\n",
              "      <td>C</td>\n",
              "    </tr>\n",
              "  </tbody>\n",
              "</table>\n",
              "</div>\n",
              "      <button class=\"colab-df-convert\" onclick=\"convertToInteractive('df-38c0aa07-a26a-4120-a1d0-db191a2831ae')\"\n",
              "              title=\"Convert this dataframe to an interactive table.\"\n",
              "              style=\"display:none;\">\n",
              "        \n",
              "  <svg xmlns=\"http://www.w3.org/2000/svg\" height=\"24px\"viewBox=\"0 0 24 24\"\n",
              "       width=\"24px\">\n",
              "    <path d=\"M0 0h24v24H0V0z\" fill=\"none\"/>\n",
              "    <path d=\"M18.56 5.44l.94 2.06.94-2.06 2.06-.94-2.06-.94-.94-2.06-.94 2.06-2.06.94zm-11 1L8.5 8.5l.94-2.06 2.06-.94-2.06-.94L8.5 2.5l-.94 2.06-2.06.94zm10 10l.94 2.06.94-2.06 2.06-.94-2.06-.94-.94-2.06-.94 2.06-2.06.94z\"/><path d=\"M17.41 7.96l-1.37-1.37c-.4-.4-.92-.59-1.43-.59-.52 0-1.04.2-1.43.59L10.3 9.45l-7.72 7.72c-.78.78-.78 2.05 0 2.83L4 21.41c.39.39.9.59 1.41.59.51 0 1.02-.2 1.41-.59l7.78-7.78 2.81-2.81c.8-.78.8-2.07 0-2.86zM5.41 20L4 18.59l7.72-7.72 1.47 1.35L5.41 20z\"/>\n",
              "  </svg>\n",
              "      </button>\n",
              "      \n",
              "  <style>\n",
              "    .colab-df-container {\n",
              "      display:flex;\n",
              "      flex-wrap:wrap;\n",
              "      gap: 12px;\n",
              "    }\n",
              "\n",
              "    .colab-df-convert {\n",
              "      background-color: #E8F0FE;\n",
              "      border: none;\n",
              "      border-radius: 50%;\n",
              "      cursor: pointer;\n",
              "      display: none;\n",
              "      fill: #1967D2;\n",
              "      height: 32px;\n",
              "      padding: 0 0 0 0;\n",
              "      width: 32px;\n",
              "    }\n",
              "\n",
              "    .colab-df-convert:hover {\n",
              "      background-color: #E2EBFA;\n",
              "      box-shadow: 0px 1px 2px rgba(60, 64, 67, 0.3), 0px 1px 3px 1px rgba(60, 64, 67, 0.15);\n",
              "      fill: #174EA6;\n",
              "    }\n",
              "\n",
              "    [theme=dark] .colab-df-convert {\n",
              "      background-color: #3B4455;\n",
              "      fill: #D2E3FC;\n",
              "    }\n",
              "\n",
              "    [theme=dark] .colab-df-convert:hover {\n",
              "      background-color: #434B5C;\n",
              "      box-shadow: 0px 1px 3px 1px rgba(0, 0, 0, 0.15);\n",
              "      filter: drop-shadow(0px 1px 2px rgba(0, 0, 0, 0.3));\n",
              "      fill: #FFFFFF;\n",
              "    }\n",
              "  </style>\n",
              "\n",
              "      <script>\n",
              "        const buttonEl =\n",
              "          document.querySelector('#df-38c0aa07-a26a-4120-a1d0-db191a2831ae button.colab-df-convert');\n",
              "        buttonEl.style.display =\n",
              "          google.colab.kernel.accessAllowed ? 'block' : 'none';\n",
              "\n",
              "        async function convertToInteractive(key) {\n",
              "          const element = document.querySelector('#df-38c0aa07-a26a-4120-a1d0-db191a2831ae');\n",
              "          const dataTable =\n",
              "            await google.colab.kernel.invokeFunction('convertToInteractive',\n",
              "                                                     [key], {});\n",
              "          if (!dataTable) return;\n",
              "\n",
              "          const docLinkHtml = 'Like what you see? Visit the ' +\n",
              "            '<a target=\"_blank\" href=https://colab.research.google.com/notebooks/data_table.ipynb>data table notebook</a>'\n",
              "            + ' to learn more about interactive tables.';\n",
              "          element.innerHTML = '';\n",
              "          dataTable['output_type'] = 'display_data';\n",
              "          await google.colab.output.renderOutput(dataTable, element);\n",
              "          const docLink = document.createElement('div');\n",
              "          docLink.innerHTML = docLinkHtml;\n",
              "          element.appendChild(docLink);\n",
              "        }\n",
              "      </script>\n",
              "    </div>\n",
              "  </div>\n",
              "  "
            ]
          },
          "metadata": {},
          "execution_count": 27
        }
      ]
    },
    {
      "cell_type": "code",
      "source": [
        "# prepare input data\n",
        "def prepare_inputs(X_train, X_test):\n",
        "\toe = OrdinalEncoder()\n",
        "\toe.fit(X_train)\n",
        "\tX_train_enc = oe.transform(X_train)\n",
        "\tX_test_enc = oe.transform(X_test)\n",
        "\treturn X_train_enc, X_test_enc"
      ],
      "metadata": {
        "id": "8dBob2CAr0Kt"
      },
      "execution_count": 35,
      "outputs": []
    },
    {
      "cell_type": "code",
      "source": [
        "# prepare target\n",
        "def prepare_targets(y_train, y_test):\n",
        "\tle = LabelEncoder()\n",
        "\tle.fit(y_train)\n",
        "\ty_train_enc = le.transform(y_train)\n",
        "\ty_test_enc = le.transform(y_test)\n",
        "\treturn y_train_enc, y_test_enc"
      ],
      "metadata": {
        "id": "FaEAzJVor2JA"
      },
      "execution_count": 36,
      "outputs": []
    },
    {
      "cell_type": "code",
      "source": [
        "X_train = train_label[['loan_id','account_id','date','amount','duration','payments']]\n",
        "X_test = test_label[['loan_id','account_id','date','amount','duration','payments']]\n",
        "y_train = train_label[['status']]\n",
        "y_test = test_label[['status']]"
      ],
      "metadata": {
        "id": "sd-1Txkar9Mc"
      },
      "execution_count": 37,
      "outputs": []
    },
    {
      "cell_type": "code",
      "source": [
        "numeric_features = [\"amount\", \"duration\"]\n",
        "numeric_transformer = Pipeline(\n",
        "    steps=[(\"imputer\", SimpleImputer(strategy=\"median\")), (\"scaler\", StandardScaler())]\n",
        ")"
      ],
      "metadata": {
        "id": "zc8s12gwr4xB"
      },
      "execution_count": 40,
      "outputs": []
    },
    {
      "cell_type": "code",
      "source": [
        "categorical_features = ['loan_id','account_id','date','payments']\n",
        "categorical_transformer = OneHotEncoder(handle_unknown=\"ignore\")"
      ],
      "metadata": {
        "id": "lXFiUh1csOd8"
      },
      "execution_count": 41,
      "outputs": []
    },
    {
      "cell_type": "code",
      "source": [
        "preprocessor = ColumnTransformer(\n",
        "    transformers=[\n",
        "        (\"num\", numeric_transformer, numeric_features),\n",
        "        (\"cat\", categorical_transformer, categorical_features),\n",
        "    ]\n",
        ")"
      ],
      "metadata": {
        "id": "e9N3hdj2s5nX"
      },
      "execution_count": 45,
      "outputs": []
    },
    {
      "cell_type": "code",
      "source": [
        "clf = Pipeline(\n",
        "    steps=[(\"preprocessor\", preprocessor), (\"classifier\", LogisticRegression())]\n",
        ")\n",
        "clf.fit(X_train, y_train)\n",
        "print(\"model score: %.3f\" % clf.score(X_test, y_test))"
      ],
      "metadata": {
        "id": "bvRgX2LbtWjr",
        "outputId": "503088ef-e6c2-44d1-a8a5-bd97de365b4e",
        "colab": {
          "base_uri": "https://localhost:8080/"
        }
      },
      "execution_count": 59,
      "outputs": [
        {
          "output_type": "stream",
          "name": "stdout",
          "text": [
            "model score: 0.660\n"
          ]
        },
        {
          "output_type": "stream",
          "name": "stderr",
          "text": [
            "/usr/local/lib/python3.7/dist-packages/sklearn/utils/validation.py:993: DataConversionWarning: A column-vector y was passed when a 1d array was expected. Please change the shape of y to (n_samples, ), for example using ravel().\n",
            "  y = column_or_1d(y, warn=True)\n"
          ]
        }
      ]
    },
    {
      "cell_type": "code",
      "execution_count": null,
      "metadata": {
        "id": "3h0XhPuNwxFd",
        "pycharm": {
          "name": "#%%\n"
        }
      },
      "outputs": [],
      "source": [
        "# YOUR CODE START \n",
        "\n",
        "\n",
        "# / END YOUR CODE"
      ]
    },
    {
      "cell_type": "markdown",
      "source": [
        "--- YOUR TEST END HERE ---"
      ],
      "metadata": {
        "id": "XyK-H1ZVYg1D",
        "pycharm": {
          "name": "#%% md\n"
        }
      }
    }
  ],
  "metadata": {
    "kernelspec": {
      "display_name": "Python 3",
      "language": "python",
      "name": "python3"
    },
    "language_info": {
      "codemirror_mode": {
        "name": "ipython",
        "version": 3
      },
      "file_extension": ".py",
      "mimetype": "text/x-python",
      "name": "python",
      "nbconvert_exporter": "python",
      "pygments_lexer": "ipython3",
      "version": "3.7.4"
    },
    "colab": {
      "name": "DS_TEST_PRACTICE_T6_2022.ipynb",
      "provenance": [],
      "collapsed_sections": []
    },
    "accelerator": "GPU",
    "gpuClass": "standard"
  },
  "nbformat": 4,
  "nbformat_minor": 0
}